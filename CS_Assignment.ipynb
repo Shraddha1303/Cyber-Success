{
  "nbformat": 4,
  "nbformat_minor": 0,
  "metadata": {
    "colab": {
      "name": "CS-Assignment.ipynb",
      "provenance": [],
      "collapsed_sections": [],
      "authorship_tag": "ABX9TyNH4WMCQf3XgEh9N/3LmGyM",
      "include_colab_link": true
    },
    "kernelspec": {
      "name": "python3",
      "display_name": "Python 3"
    },
    "language_info": {
      "name": "python"
    }
  },
  "cells": [
    {
      "cell_type": "markdown",
      "metadata": {
        "id": "view-in-github",
        "colab_type": "text"
      },
      "source": [
        "<a href=\"https://colab.research.google.com/github/Shraddha1303/Cyber-Success/blob/main/CS_Assignment.ipynb\" target=\"_parent\"><img src=\"https://colab.research.google.com/assets/colab-badge.svg\" alt=\"Open In Colab\"/></a>"
      ]
    },
    {
      "cell_type": "markdown",
      "metadata": {
        "id": "JFA11aePqzc6"
      },
      "source": [
        "**Cyber Success- Homework Assignment-1**(with list and dictionary)"
      ]
    },
    {
      "cell_type": "markdown",
      "metadata": {
        "id": "Og6Bv4bqw1Hf"
      },
      "source": [
        "Method 1"
      ]
    },
    {
      "cell_type": "code",
      "metadata": {
        "colab": {
          "base_uri": "https://localhost:8080/"
        },
        "id": "5hxgStT6qwxi",
        "outputId": "4ca356c7-9de2-4748-f883-7e152c5ad2d0"
      },
      "source": [
        "a=[\"how are you?\",\"what is your name?\",\"are you indian?\",\"what is your favorite colour?\"]\n",
        "b={\"how are you?\":\"I am fine\",\"what is your name?\":\"my name is Shraddha\",\"are you indian?\":\"Yes\",\"what is your favorite colour?\":\"Orange\"}\n",
        "\n",
        "x=input(\"Ask Question:\")\n",
        "print(b[x])"
      ],
      "execution_count": 2,
      "outputs": [
        {
          "output_type": "stream",
          "name": "stdout",
          "text": [
            "Ask Question:what is your name?\n",
            "my name is Shraddha\n"
          ]
        }
      ]
    },
    {
      "cell_type": "markdown",
      "metadata": {
        "id": "hzHHyFfHwmGh"
      },
      "source": [
        "Method 2: Using if elif conditions"
      ]
    },
    {
      "cell_type": "code",
      "metadata": {
        "colab": {
          "base_uri": "https://localhost:8080/"
        },
        "id": "BeIhlLHKsyhH",
        "outputId": "674ed88d-ef01-455a-a9a8-91795f6cd993"
      },
      "source": [
        "q=input(\"Ask Question \")\n",
        "a=[\"how are you?\",\"what is your name?\",\"are you indian?\",\"what is your favorite colour?\"]\n",
        "b={\"how are you?\":\"I am fine\",\"what is your name?\":\"my name is Shraddha\",\"are you indian?\":\"Yes\",\"what is your favorite colour?\":\"Orange\"}\n",
        "if (q==a[0]):\n",
        "  c=b.get(\"how are you?\")\n",
        "  print(c)\n",
        "elif(q==a[1]):\n",
        "  print(b.get(\"what is your name?\"))\n",
        "elif(q==a[2]):\n",
        "  print(b.get(\"are you indian?\"))\n",
        "elif(q==a[3]):\n",
        "  print(b.get(\"what is your favorite colour?\"))\n"
      ],
      "execution_count": 9,
      "outputs": [
        {
          "output_type": "stream",
          "name": "stdout",
          "text": [
            "Ask Question what is your favorite colour?\n",
            "Orange\n"
          ]
        }
      ]
    }
  ]
}