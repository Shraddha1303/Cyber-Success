{
  "nbformat": 4,
  "nbformat_minor": 0,
  "metadata": {
    "colab": {
      "name": "Pattern_assignment.ipynb",
      "provenance": [],
      "collapsed_sections": [],
      "authorship_tag": "ABX9TyNqpST5uImzrjG+apCzfEPb",
      "include_colab_link": true
    },
    "kernelspec": {
      "name": "python3",
      "display_name": "Python 3"
    },
    "language_info": {
      "name": "python"
    }
  },
  "cells": [
    {
      "cell_type": "markdown",
      "metadata": {
        "id": "view-in-github",
        "colab_type": "text"
      },
      "source": [
        "<a href=\"https://colab.research.google.com/github/Shraddha1303/Cyber-Success/blob/main/Pattern_assignment.ipynb\" target=\"_parent\"><img src=\"https://colab.research.google.com/assets/colab-badge.svg\" alt=\"Open In Colab\"/></a>"
      ]
    },
    {
      "cell_type": "markdown",
      "metadata": {
        "id": "izYTchWAQEyx"
      },
      "source": [
        "**Cyber Success- Homework Assignment-2** (Pattern Printing)"
      ]
    },
    {
      "cell_type": "code",
      "metadata": {
        "colab": {
          "base_uri": "https://localhost:8080/"
        },
        "id": "ORwxGpwFqRXU",
        "outputId": "fdbdfca7-d432-41c9-ea43-93416f9a8415"
      },
      "source": [
        "a=input(\"Enter name surname separated by space:\")\n",
        "b=[]\n",
        "n=6\n",
        "if(a.count(\" \")==1):\n",
        "  b=a.split(\" \")\n",
        "  print(b)\n",
        "  c=list(b[0]+b[1])\n",
        "  print(c)\n",
        "  len(c)\n",
        "  for i in range(0,n):\n",
        "      for j in range(i+1):\n",
        "        print(c[j],end=\" \")\n",
        "      print()\n",
        "\n",
        "  else:\n",
        "    print(\" \")\n",
        "    print(\" \")\n",
        "    print(b)    \n",
        "else:\n",
        "  print(\"Put space between name surname\")"
      ],
      "execution_count": null,
      "outputs": [
        {
          "output_type": "stream",
          "name": "stdout",
          "text": [
            "Enter name surname separated by space:TOM CAT\n",
            "['TOM', 'CAT']\n",
            "['T', 'O', 'M', 'C', 'A', 'T']\n",
            "T \n",
            "T O \n",
            "T O M \n",
            "T O M C \n",
            "T O M C A \n",
            "T O M C A T \n",
            " \n",
            " \n",
            "['TOM', 'CAT']\n"
          ]
        }
      ]
    },
    {
      "cell_type": "code",
      "metadata": {
        "colab": {
          "base_uri": "https://localhost:8080/"
        },
        "id": "UeSjv53FjTb8",
        "outputId": "47b9b531-be0d-4f31-dd16-07f86ddb391f"
      },
      "source": [
        "n=5\n",
        "for i in range(0,n):\n",
        "  for j in range(0,i):\n",
        "    print(\"*\",end=\" \")\n",
        "  print() "
      ],
      "execution_count": null,
      "outputs": [
        {
          "output_type": "stream",
          "name": "stdout",
          "text": [
            "\n",
            "* \n",
            "* * \n",
            "* * * \n",
            "* * * * \n"
          ]
        }
      ]
    },
    {
      "cell_type": "code",
      "metadata": {
        "colab": {
          "base_uri": "https://localhost:8080/"
        },
        "id": "aDSgsjwNoPjq",
        "outputId": "ef45329a-c4ac-4a76-cc4d-bed8538139ef"
      },
      "source": [
        "n=5\n",
        "for i in range(n,0,-1):\n",
        "  for j in range(0,i):\n",
        "    print(\"*\",end=\" \")\n",
        "  print() "
      ],
      "execution_count": null,
      "outputs": [
        {
          "output_type": "stream",
          "name": "stdout",
          "text": [
            "* * * * * \n",
            "* * * * \n",
            "* * * \n",
            "* * \n",
            "* \n"
          ]
        }
      ]
    },
    {
      "cell_type": "code",
      "metadata": {
        "colab": {
          "base_uri": "https://localhost:8080/"
        },
        "id": "c0gr5FeLqAZr",
        "outputId": "7799fb67-bd14-4efb-fe89-5db5626a5f10"
      },
      "source": [
        "n=5\n",
        "for i in range(1,n):\n",
        "  for k in range(n-i,0,-1):\n",
        "    print(\" \",end=\" \")\n",
        "  for j in range(0,i):\n",
        "    print(\"*\",end=\" \")\n",
        "  print() "
      ],
      "execution_count": null,
      "outputs": [
        {
          "output_type": "stream",
          "name": "stdout",
          "text": [
            "        * \n",
            "      * * \n",
            "    * * * \n",
            "  * * * * \n"
          ]
        }
      ]
    },
    {
      "cell_type": "code",
      "metadata": {
        "colab": {
          "base_uri": "https://localhost:8080/"
        },
        "id": "6nIKO2WmsdI0",
        "outputId": "aed46622-9d77-4a42-a0b0-0e9d6e126e56"
      },
      "source": [
        "n=5\n",
        "for i in range(1,n):\n",
        "  for k in range(n-i,0,-1):\n",
        "    print(\" \",end=\"\")\n",
        "  for j in range(0,i):\n",
        "    print(\"*\",end=\" \")\n",
        "  print() "
      ],
      "execution_count": null,
      "outputs": [
        {
          "output_type": "stream",
          "name": "stdout",
          "text": [
            "    * \n",
            "   * * \n",
            "  * * * \n",
            " * * * * \n"
          ]
        }
      ]
    },
    {
      "cell_type": "code",
      "metadata": {
        "colab": {
          "base_uri": "https://localhost:8080/"
        },
        "id": "i7J9IvQFk-vN",
        "outputId": "facb05fd-8f4d-4150-af2f-62e7abaf772b"
      },
      "source": [
        "n=5\n",
        "for i in range(n,0,-1):\n",
        "  for j in range(0,i):\n",
        "    print(i,end=\" \")\n",
        "  print() "
      ],
      "execution_count": null,
      "outputs": [
        {
          "output_type": "stream",
          "name": "stdout",
          "text": [
            "5 5 5 5 5 \n",
            "4 4 4 4 \n",
            "3 3 3 \n",
            "2 2 \n",
            "1 \n"
          ]
        }
      ]
    },
    {
      "cell_type": "code",
      "metadata": {
        "colab": {
          "base_uri": "https://localhost:8080/"
        },
        "id": "-Uz_yPrcklK-",
        "outputId": "acf0405b-38f3-4bb8-8d36-d5435cbee6a6"
      },
      "source": [
        "n=5\n",
        "for i in range(1,n):\n",
        "  for j in range(1,i+1):\n",
        "    print(j,end=\" \")\n",
        "  for k in range(1,i):\n",
        "     print(k,end=\" \")\n",
        "  print() "
      ],
      "execution_count": null,
      "outputs": [
        {
          "output_type": "stream",
          "name": "stdout",
          "text": [
            "1 \n",
            "1 2 1 \n",
            "1 2 3 1 2 \n",
            "1 2 3 4 1 2 3 \n"
          ]
        }
      ]
    },
    {
      "cell_type": "code",
      "metadata": {
        "colab": {
          "base_uri": "https://localhost:8080/"
        },
        "id": "JOFIxueaorJ9",
        "outputId": "886e287e-c50c-4ee5-c27b-9595dd2c8b9f"
      },
      "source": [
        "n=6\n",
        "for i in range(1,n):\n",
        "  for j in range(1,i):\n",
        "    print(j,end=\" \")\n",
        "  for k in range(i-1,0,-1):\n",
        "    if i>2:\n",
        "      print(k,end=\" \")\n",
        "  print() "
      ],
      "execution_count": null,
      "outputs": [
        {
          "output_type": "stream",
          "name": "stdout",
          "text": [
            "\n",
            "1 \n",
            "1 2 2 1 \n",
            "1 2 3 3 2 1 \n",
            "1 2 3 4 4 3 2 1 \n"
          ]
        }
      ]
    },
    {
      "cell_type": "code",
      "metadata": {
        "colab": {
          "base_uri": "https://localhost:8080/"
        },
        "id": "HP8DWfKqt1mf",
        "outputId": "f71eff8f-d825-4bfc-9f27-c97bff8d9e56"
      },
      "source": [
        "n=5\n",
        "for i in range(0,n):\n",
        "  for j in range(0,n):\n",
        "    if i==0 or i==n-1 or j==0 or j==n-1:\n",
        "      print(\"*\",end=\" \")\n",
        "    else:\n",
        "       print(\" \",end=\" \") \n",
        "  print()   "
      ],
      "execution_count": null,
      "outputs": [
        {
          "output_type": "stream",
          "name": "stdout",
          "text": [
            "* * * * * \n",
            "*       * \n",
            "*       * \n",
            "*       * \n",
            "* * * * * \n"
          ]
        }
      ]
    },
    {
      "cell_type": "code",
      "metadata": {
        "colab": {
          "base_uri": "https://localhost:8080/"
        },
        "id": "yade9D1xur1U",
        "outputId": "81fe0a65-1022-43a9-bacd-c3dd99c2a5d1"
      },
      "source": [
        "n=5\n",
        "for i in range(0,n):\n",
        "  for j in range(0,n):\n",
        "    if i==0 or i==n-1 or j==0 or j==n-1 or i==j:\n",
        "      print(\"*\",end=\" \")\n",
        "    else:\n",
        "        print(\" \",end=\" \") \n",
        "  print()   "
      ],
      "execution_count": null,
      "outputs": [
        {
          "output_type": "stream",
          "name": "stdout",
          "text": [
            "* * * * * \n",
            "* *     * \n",
            "*   *   * \n",
            "*     * * \n",
            "* * * * * \n"
          ]
        }
      ]
    },
    {
      "cell_type": "markdown",
      "metadata": {
        "id": "VndhUOyNRBDU"
      },
      "source": [
        "Method- 1\n"
      ]
    },
    {
      "cell_type": "code",
      "metadata": {
        "colab": {
          "base_uri": "https://localhost:8080/"
        },
        "id": "svui4ZqW9odr",
        "outputId": "d76438e5-63f2-498c-c1bc-21337347896e"
      },
      "source": [
        "a = ['A','B','C']\n",
        "b = [1,2,3]\n",
        "c = {}\n",
        "d = c.fromkeys(a)\n",
        "for i in d:\n",
        "    d[i] = b,b,b\n",
        "d"
      ],
      "execution_count": null,
      "outputs": [
        {
          "output_type": "execute_result",
          "data": {
            "text/plain": [
              "{'A': ([1, 2, 3], [1, 2, 3], [1, 2, 3]),\n",
              " 'B': ([1, 2, 3], [1, 2, 3], [1, 2, 3]),\n",
              " 'C': ([1, 2, 3], [1, 2, 3], [1, 2, 3])}"
            ]
          },
          "metadata": {},
          "execution_count": 65
        }
      ]
    },
    {
      "cell_type": "markdown",
      "metadata": {
        "id": "EoFQLUVfRIOm"
      },
      "source": [
        "Method- 2 "
      ]
    },
    {
      "cell_type": "code",
      "metadata": {
        "colab": {
          "base_uri": "https://localhost:8080/"
        },
        "id": "uBgZk7IZB3Bd",
        "outputId": "7521e8bb-2d4b-4e0a-aec0-4cc08c61667c"
      },
      "source": [
        "var = ['A','B','C']\n",
        "var1 = [1,2,3]\n",
        "X=[]\n",
        "Y = {}\n",
        "for i in range(0,len(var1)):\n",
        "  X.append(var1)\n",
        "for j in var:\n",
        "  Y[j]=X \n",
        "  print(Y) \n"
      ],
      "execution_count": null,
      "outputs": [
        {
          "output_type": "stream",
          "name": "stdout",
          "text": [
            "{'A': [[1, 2, 3], [1, 2, 3], [1, 2, 3]]}\n",
            "{'A': [[1, 2, 3], [1, 2, 3], [1, 2, 3]], 'B': [[1, 2, 3], [1, 2, 3], [1, 2, 3]]}\n",
            "{'A': [[1, 2, 3], [1, 2, 3], [1, 2, 3]], 'B': [[1, 2, 3], [1, 2, 3], [1, 2, 3]], 'C': [[1, 2, 3], [1, 2, 3], [1, 2, 3]]}\n"
          ]
        }
      ]
    }
  ]
}