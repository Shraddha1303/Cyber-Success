{
  "nbformat": 4,
  "nbformat_minor": 0,
  "metadata": {
    "colab": {
      "name": "Calculator.ipynb",
      "provenance": [],
      "collapsed_sections": [],
      "authorship_tag": "ABX9TyMudyCjxdAIiRwjR2PVI6AP",
      "include_colab_link": true
    },
    "kernelspec": {
      "name": "python3",
      "display_name": "Python 3"
    },
    "language_info": {
      "name": "python"
    }
  },
  "cells": [
    {
      "cell_type": "markdown",
      "metadata": {
        "id": "view-in-github",
        "colab_type": "text"
      },
      "source": [
        "<a href=\"https://colab.research.google.com/github/Shraddha1303/Cyber-Success/blob/main/Calculator.ipynb\" target=\"_parent\"><img src=\"https://colab.research.google.com/assets/colab-badge.svg\" alt=\"Open In Colab\"/></a>"
      ]
    },
    {
      "cell_type": "markdown",
      "source": [
        "**Cyber Success- Homework Assignment- To print: start program-->calculator operation-->end program**\n"
      ],
      "metadata": {
        "id": "-HCGJtvt0JW2"
      }
    },
    {
      "cell_type": "code",
      "execution_count": 1,
      "metadata": {
        "colab": {
          "base_uri": "https://localhost:8080/"
        },
        "id": "VZL9jEcFz39R",
        "outputId": "e5e9c3af-f111-4987-b333-c8ed1ef83d0d"
      },
      "outputs": [
        {
          "output_type": "stream",
          "name": "stdout",
          "text": [
            "****Start the Program****\n",
            "Enter the operator sign *\n",
            "enter 1st number 2\n",
            "enter 2nd number 3\n",
            "The Answer is 6\n",
            "****Stop the Program****\n"
          ]
        }
      ],
      "source": [
        "#operation def fuction \n",
        "def add(a,b):\n",
        "  print(f\"{a+b}\")\n",
        "def Subtract(a,b):\n",
        "  print(f\"{a-b}\")\n",
        "def multiply(a,b):\n",
        "  print(f\"{a*b}\")\n",
        "def power(a,b):\n",
        "  print(f\"{a**b}\")\n",
        "\n",
        "#calci def function\n",
        "def calci(x,y,op):\n",
        "  if op==\"+\":\n",
        "    return add(x,y)\n",
        "  elif op==\"-\":\n",
        "      return Subtract(x,y)\n",
        "  elif op==\"*\":\n",
        "        return multiply(x,y)\n",
        "  elif op==\"**\":\n",
        "          return power(x,y)\n",
        "  else:\n",
        "      print(\"Enter operator to perform\")       \n",
        "    \n",
        "#start program\n",
        "def abc(x,y):\n",
        "    print(f\"{'*'*x}{y}{'*'*x}\")\n",
        "abc(4,\"Start the Program\") \n",
        "\n",
        "p=input(\"Enter the operator sign \") \n",
        "var = int(input(\"enter 1st number \"))\n",
        "var1=int(input(\"enter 2nd number \"))\n",
        "print(\"The Answer is\",end=\" \")\n",
        "calci(var,var1,p)\n",
        "\n",
        "#end program \n",
        "def abc(x,y):\n",
        "    print(f\"{'*'*x}{y}{'*'*x}\")\n",
        "abc(4,\"Stop the Program\") "
      ]
    }
  ]
}