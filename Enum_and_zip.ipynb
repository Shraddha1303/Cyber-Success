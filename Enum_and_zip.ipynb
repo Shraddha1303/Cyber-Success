{
  "nbformat": 4,
  "nbformat_minor": 0,
  "metadata": {
    "colab": {
      "name": "Enum_and_zip.ipynb",
      "provenance": [],
      "collapsed_sections": [],
      "authorship_tag": "ABX9TyPk+4XCePcGwuPtGWmDrRIM",
      "include_colab_link": true
    },
    "kernelspec": {
      "name": "python3",
      "display_name": "Python 3"
    },
    "language_info": {
      "name": "python"
    }
  },
  "cells": [
    {
      "cell_type": "markdown",
      "metadata": {
        "id": "view-in-github",
        "colab_type": "text"
      },
      "source": [
        "<a href=\"https://colab.research.google.com/github/Shraddha1303/Cyber-Success/blob/main/Enum_and_zip.ipynb\" target=\"_parent\"><img src=\"https://colab.research.google.com/assets/colab-badge.svg\" alt=\"Open In Colab\"/></a>"
      ]
    },
    {
      "cell_type": "markdown",
      "metadata": {
        "id": "doVQvYpsYlCp"
      },
      "source": [
        "Cyber Success- Homework assignment 2- To create replica of enumerate and zip functions\n"
      ]
    },
    {
      "cell_type": "code",
      "metadata": {
        "colab": {
          "base_uri": "https://localhost:8080/"
        },
        "id": "eBey13-sXCnO",
        "outputId": "22683b60-a827-46b3-d6d8-ab6b1e1e3224"
      },
      "source": [
        "#create a replica of enumerate function\n",
        "#index should start from 2\n",
        "def enum(a,start=0):\n",
        "  c=[]\n",
        "  for i in range(len(a)):\n",
        "    c.append((i+start,a[i]))\n",
        "  return c\n",
        "\n",
        "var1=input(\"Please enter list\")\n",
        "var2=input(\"Please enter start parameter\")\n",
        "repeat= \"C\"\n",
        "while repeat.upper()==\"C\":\n",
        "  var1 = eval(var1)         #converts input list into list\n",
        "  if isinstance(var1,list): #isinstance is samr as type\n",
        "    if var2.isnumeric():    #var2 is numeric integer you accept via input\n",
        "      var2 = int(var2)\n",
        "      #in below print, calling enum function in {}\n",
        "      print(f\"The desired enumerated list is \\n {enum(var1,var2)}\")\n",
        "    else:\n",
        "      print(\"As start parameter was invalid,we are going with default 0\")\n",
        "      enum(var1)\n",
        "  repeat=input(\"Continue or stop?? type C or S\")\n",
        "  if repeat.upper()==\"C\":\n",
        "    var1= input(\"Please enter list\")\n",
        "    var2= input(\"Please enter start parameter\")\n",
        "  else:\n",
        "    print(\"Program stopped\")          "
      ],
      "execution_count": 1,
      "outputs": [
        {
          "output_type": "stream",
          "name": "stdout",
          "text": [
            "Please enter list[4,7,5,6,2]\n",
            "Please enter start parameter2\n",
            "The desired enumerated list is \n",
            " [(2, 4), (3, 7), (4, 5), (5, 6), (6, 2)]\n",
            "Continue or stop?? type C or SS\n",
            "Program stopped\n"
          ]
        }
      ]
    },
    {
      "cell_type": "code",
      "metadata": {
        "colab": {
          "base_uri": "https://localhost:8080/"
        },
        "id": "Lv_doYpgXGaq",
        "outputId": "7da784d0-d4ac-461f-c1de-721fda7f86bc"
      },
      "source": [
        "'''Create a zipper such that it accepts only list as input from user else program stops with error message.\n",
        "   The result should show a list wwith tuples\n",
        "   and for all those values which do not exists, it should show none'''\n",
        "   \n",
        "#to use eval for input, then to use for loops\n",
        "def zipper(a,b):\n",
        "  c=[]\n",
        "  if len(a)>len(b):\n",
        "    for i in range(len(a)-len(b)):\n",
        "      b.append(None)\n",
        "  elif len(a)<len(b):\n",
        "    for i in range(len(b)-len(a)):\n",
        "      a.append(None)\n",
        "  else: #This means a and b are of same length,so do not do anything\n",
        "    pass\n",
        "  for i in range(len(a)):\n",
        "    c.append((a[i],b[i]))\n",
        "  return c\n",
        "a=input(\"Enter list number 1,else program will abend for wrong input\")\n",
        "b=input(\"Enter list number 2,else program will abend for wrong input\")\n",
        "if (type(eval(a)) and type(eval(b))) is list:  #or can do by using isinstance(eval(a),list)\n",
        "  a=eval(a)\n",
        "  b=eval(b)\n",
        "  var=zipper(a,b)  #using zipper function and storing return value\n",
        "  print(f\" The desired list of tuple is {var}\")\n",
        "else:\n",
        "  print(\"Wrong input given\")  \n"
      ],
      "execution_count": null,
      "outputs": [
        {
          "output_type": "stream",
          "name": "stdout",
          "text": [
            "Enter list number 1,else program will abend for wrong input[4,6,3,1,2,7,5]\n",
            "Enter list number 2,else program will abend for wrong input[1,3,2,5]\n",
            " The desired list of tuple is [(4, 1), (6, 3), (3, 2), (1, 5), (2, None), (7, None), (5, None)]\n"
          ]
        }
      ]
    }
  ]
}