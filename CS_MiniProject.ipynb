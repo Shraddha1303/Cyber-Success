{
  "nbformat": 4,
  "nbformat_minor": 0,
  "metadata": {
    "colab": {
      "name": "CS-MiniProject.ipynb",
      "provenance": [],
      "collapsed_sections": [],
      "authorship_tag": "ABX9TyO4Zc7XCIBqNdvS++1dijj6",
      "include_colab_link": true
    },
    "kernelspec": {
      "name": "python3",
      "display_name": "Python 3"
    },
    "language_info": {
      "name": "python"
    }
  },
  "cells": [
    {
      "cell_type": "markdown",
      "metadata": {
        "id": "view-in-github",
        "colab_type": "text"
      },
      "source": [
        "<a href=\"https://colab.research.google.com/github/Shraddha1303/Cyber-Success/blob/main/CS_MiniProject.ipynb\" target=\"_parent\"><img src=\"https://colab.research.google.com/assets/colab-badge.svg\" alt=\"Open In Colab\"/></a>"
      ]
    },
    {
      "cell_type": "markdown",
      "metadata": {
        "id": "iymJNV7T3qs6"
      },
      "source": [
        "Cyber Success Mini Project"
      ]
    },
    {
      "cell_type": "markdown",
      "metadata": {
        "id": "0zPxR9JQ71jX"
      },
      "source": [
        "Objective- To generate a secret code when the user inputs their name and surname."
      ]
    },
    {
      "cell_type": "code",
      "metadata": {
        "colab": {
          "base_uri": "https://localhost:8080/"
        },
        "id": "o2c8kMyoOvgl",
        "outputId": "ccb1c6fa-8cc5-44e9-aafd-5b5db7588738"
      },
      "source": [
        "a_dict_personal_code={}\n",
        "a_dict_hard_coded_values={\"A\":1,\"B\":2,\"C\":3,\"D\":4,\"E\":5,\"F\":6,\"G\":7,\"H\":8,\"I\":9,\"J\":10,\"K\":11,\"L\":12,\"M\":13,\"N\":14,\"O\":15,\"P\":16,\"Q\":17,\"R\":18,\"S\":19,\"T\":20,\"U\":21,\"V\":22,\"W\":23,\"X\":24,\"Y\":25,\"Z\":26}\n",
        "b_list_name_surname= []\n",
        "b_list_ind_char=[]\n",
        "b_list_uniqe=[]\n",
        "name=[]\n",
        "surname=[]\n",
        "dummy=[]\n",
        "\n",
        "#To input name and surname\n",
        "user_input_1= input(\"Enter name surname separated by '@'\")\n",
        "\n",
        "#To split name and surname by '@'\n",
        "if (user_input_1.count(\"@\") == 1):\n",
        "    b_list_name_surname = user_input_1.split(\"@\")\n",
        "#Length of the name and surname should be equal or greater than 3 if not add 'X' to name and 'Z' to surname       \n",
        "    if len(b_list_name_surname[0]) >=3:\n",
        "           pass\n",
        "    else:\n",
        "           b_list_name_surname[0] = b_list_name_surname[0] + \"X\"\n",
        "\n",
        "    if len(b_list_name_surname[1])>= 3:\n",
        "           pass\n",
        "    else:\n",
        "           b_list_name_surname[1] = b_list_name_surname[1] + \"Z\"\n",
        "    \n",
        "#Validation for name surname completed\n",
        "\n",
        "#To store name and surname together in a list\n",
        "    b_list_ind_char=list(b_list_name_surname[0]+ b_list_name_surname[1])\n",
        "\n",
        "#To remove duplicates from name surname and store in two different lists\n",
        "    for i in range(0,len(b_list_name_surname)):\n",
        "         for j in range (0,len(b_list_name_surname[i])):\n",
        "             if b_list_name_surname[i][j] in dummy:\n",
        "                 pass\n",
        "             else:\n",
        "                  dummy.append(b_list_name_surname[i][j])\n",
        "         if i==0:\n",
        "                name=dummy.copy()\n",
        "                dummy.clear()\n",
        "\n",
        "    surname=dummy.copy()\n",
        "    print(name)\n",
        "    print(surname)\n",
        "\n",
        "#To print given key:value pair of characters in dictionary from the name and surname list\n",
        "    for i in range(0,3):\n",
        "        a_dict_personal_code[name[i]]= a_dict_hard_coded_values[name[i].upper()]\n",
        "    for i in range(0,3):\n",
        "        a_dict_personal_code[surname[i]]= a_dict_hard_coded_values[surname[i].upper()]\n",
        "    print(a_dict_personal_code)\n",
        "\n",
        " #To input a choice of number between 1 to 3 \n",
        "    user_input_2 = input(\"Enter a number between 1 to 3\")\n",
        "    if user_input_2.isnumeric():\n",
        "       if (int(user_input_2) > 0) and (int(user_input_2) < 4):\n",
        "          user_input_2 = int (user_input_2)\n",
        "       else:\n",
        "          user_input_2 = 3\n",
        "    else:\n",
        "          user_input_2 = 3\n",
        "    print(user_input_2)\n",
        "\n",
        "#To generate secret code and secret password\n",
        "    secret_code = a_dict_personal_code[name[user_input_2-1]] + a_dict_personal_code[surname[user_input_2-1]]\n",
        "    for key,value in a_dict_hard_coded_values.items():\n",
        "        if value == secret_code:\n",
        "            secret_key = key\n",
        "\n",
        "#Print Statements\n",
        "    print(\"Secret key\", secret_key)\n",
        "    print(\"Secret code\", secret_code)\n",
        "    print(f\"{name[user_input_2-1]}{a_dict_hard_coded_values[name[user_input_2-1].upper()]}{surname[user_input_2-1]}{a_dict_hard_coded_values[surname[user_input_2-1].upper()]}{secret_code}{secret_key}\")\n",
        "    print(a_dict_hard_coded_values)\n",
        "else:\n",
        "    print(\"Wrong entry. Try again\")\n",
        "\n",
        "\n",
        "\n"
      ],
      "execution_count": 12,
      "outputs": [
        {
          "output_type": "stream",
          "name": "stdout",
          "text": [
            "Enter name surname separated by '@'shraddha@patange\n",
            "['s', 'h', 'r', 'a', 'd']\n",
            "['p', 'a', 't', 'n', 'g', 'e']\n",
            "{'s': 19, 'h': 8, 'r': 18, 'p': 16, 'a': 1, 't': 20}\n",
            "Enter a number between 1 to 31\n",
            "1\n",
            "Secret key Y\n",
            "Secret code 35\n",
            "s19p1635Y\n",
            "{'A': 1, 'B': 2, 'C': 3, 'D': 4, 'E': 5, 'F': 6, 'G': 7, 'H': 8, 'I': 9, 'J': 10, 'K': 11, 'L': 12, 'M': 13, 'N': 14, 'O': 15, 'P': 16, 'Q': 17, 'R': 18, 'S': 19, 'T': 20, 'U': 21, 'V': 22, 'W': 23, 'X': 24, 'Y': 25, 'Z': 26}\n"
          ]
        }
      ]
    }
  ]
}